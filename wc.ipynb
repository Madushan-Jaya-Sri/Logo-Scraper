{
 "cells": [
  {
   "cell_type": "code",
   "execution_count": 4,
   "metadata": {},
   "outputs": [
    {
     "name": "stdout",
     "output_type": "stream",
     "text": [
      "    Keyword  Count\n",
      "0      long      1\n",
      "1     input      1\n",
      "2      text      1\n",
      "3      full      1\n",
      "4  document      1\n",
      "5   article      1\n",
      "6  anything      1\n"
     ]
    },
    {
     "name": "stderr",
     "output_type": "stream",
     "text": [
      "[nltk_data] Downloading package punkt to /Users/jayasri/nltk_data...\n",
      "[nltk_data]   Package punkt is already up-to-date!\n",
      "[nltk_data] Downloading package stopwords to\n",
      "[nltk_data]     /Users/jayasri/nltk_data...\n",
      "[nltk_data]   Package stopwords is already up-to-date!\n"
     ]
    }
   ],
   "source": [
    "import re\n",
    "import nltk\n",
    "import pandas as pd\n",
    "from nltk.corpus import stopwords\n",
    "from nltk.tokenize import word_tokenize\n",
    "from collections import Counter\n",
    "\n",
    "# Download NLTK data (run only once)\n",
    "nltk.download('punkt')\n",
    "nltk.download('stopwords')\n",
    "\n",
    "# Optional: List of common English verbs to remove\n",
    "common_verbs = {\n",
    "    'be', 'am', 'is', 'are', 'was', 'were', 'been', 'being',\n",
    "    'have', 'has', 'had', 'having',\n",
    "    'do', 'does', 'did', 'doing',\n",
    "    'will', 'would', 'shall', 'should', 'can', 'could', 'may', 'might', 'must',\n",
    "    'go', 'goes', 'went', 'gone', 'going',\n",
    "    'get', 'gets', 'got', 'gotten', 'getting',\n",
    "    'make', 'makes', 'made', 'making',\n",
    "    'say', 'says', 'said', 'saying',\n",
    "    'see', 'saw', 'seen', 'seeing'\n",
    "}\n",
    "\n",
    "def clean_and_count_to_df(text):\n",
    "    # Lowercase and remove non-letter characters\n",
    "    text = text.lower()\n",
    "    text = re.sub(r'[^a-z\\s]', '', text)\n",
    "\n",
    "    # Tokenize\n",
    "    tokens = word_tokenize(text)\n",
    "\n",
    "    # Filter out stopwords and verbs\n",
    "    stop_words = set(stopwords.words('english'))\n",
    "    filtered = [\n",
    "        word for word in tokens \n",
    "        if word not in stop_words and word not in common_verbs\n",
    "    ]\n",
    "\n",
    "    # Count words\n",
    "    word_counts = Counter(filtered)\n",
    "\n",
    "    # Convert to DataFrame\n",
    "    df = pd.DataFrame(word_counts.items(), columns=['Keyword', 'Count'])\n",
    "    df = df.sort_values(by='Count', ascending=False).reset_index(drop=True)\n",
    "\n",
    "    return df\n",
    "\n",
    "# Example usage\n",
    "text = \"\"\"Your long input text goes here. It can be a full document, article, or anything.\"\"\"\n",
    "df_result = clean_and_count_to_df(text)\n",
    "\n",
    "print(df_result.head(10))  # Top 10 keywords\n"
   ]
  },
  {
   "cell_type": "code",
   "execution_count": 5,
   "metadata": {},
   "outputs": [
    {
     "data": {
      "text/html": [
       "<div>\n",
       "<style scoped>\n",
       "    .dataframe tbody tr th:only-of-type {\n",
       "        vertical-align: middle;\n",
       "    }\n",
       "\n",
       "    .dataframe tbody tr th {\n",
       "        vertical-align: top;\n",
       "    }\n",
       "\n",
       "    .dataframe thead th {\n",
       "        text-align: right;\n",
       "    }\n",
       "</style>\n",
       "<table border=\"1\" class=\"dataframe\">\n",
       "  <thead>\n",
       "    <tr style=\"text-align: right;\">\n",
       "      <th></th>\n",
       "      <th>Keyword</th>\n",
       "      <th>Count</th>\n",
       "    </tr>\n",
       "  </thead>\n",
       "  <tbody>\n",
       "    <tr>\n",
       "      <th>0</th>\n",
       "      <td>long</td>\n",
       "      <td>1</td>\n",
       "    </tr>\n",
       "    <tr>\n",
       "      <th>1</th>\n",
       "      <td>input</td>\n",
       "      <td>1</td>\n",
       "    </tr>\n",
       "    <tr>\n",
       "      <th>2</th>\n",
       "      <td>text</td>\n",
       "      <td>1</td>\n",
       "    </tr>\n",
       "    <tr>\n",
       "      <th>3</th>\n",
       "      <td>full</td>\n",
       "      <td>1</td>\n",
       "    </tr>\n",
       "    <tr>\n",
       "      <th>4</th>\n",
       "      <td>document</td>\n",
       "      <td>1</td>\n",
       "    </tr>\n",
       "    <tr>\n",
       "      <th>5</th>\n",
       "      <td>article</td>\n",
       "      <td>1</td>\n",
       "    </tr>\n",
       "    <tr>\n",
       "      <th>6</th>\n",
       "      <td>anything</td>\n",
       "      <td>1</td>\n",
       "    </tr>\n",
       "  </tbody>\n",
       "</table>\n",
       "</div>"
      ],
      "text/plain": [
       "    Keyword  Count\n",
       "0      long      1\n",
       "1     input      1\n",
       "2      text      1\n",
       "3      full      1\n",
       "4  document      1\n",
       "5   article      1\n",
       "6  anything      1"
      ]
     },
     "execution_count": 5,
     "metadata": {},
     "output_type": "execute_result"
    }
   ],
   "source": [
    "df_result"
   ]
  }
 ],
 "metadata": {
  "kernelspec": {
   "display_name": "venv",
   "language": "python",
   "name": "python3"
  },
  "language_info": {
   "codemirror_mode": {
    "name": "ipython",
    "version": 3
   },
   "file_extension": ".py",
   "mimetype": "text/x-python",
   "name": "python",
   "nbconvert_exporter": "python",
   "pygments_lexer": "ipython3",
   "version": "3.13.2"
  }
 },
 "nbformat": 4,
 "nbformat_minor": 2
}
